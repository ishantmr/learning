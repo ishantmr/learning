{
  "nbformat": 4,
  "nbformat_minor": 0,
  "metadata": {
    "colab": {
      "provenance": [],
      "gpuType": "T4",
      "authorship_tag": "ABX9TyPBdmFqmKEPV1IBZ3Xo806n",
      "include_colab_link": true
    },
    "kernelspec": {
      "name": "python3",
      "display_name": "Python 3"
    },
    "language_info": {
      "name": "python"
    },
    "accelerator": "GPU"
  },
  "cells": [
    {
      "cell_type": "markdown",
      "metadata": {
        "id": "view-in-github",
        "colab_type": "text"
      },
      "source": [
        "<a href=\"https://colab.research.google.com/github/ishantmr/learning/blob/main/tensors_in_pytorch2.ipynb\" target=\"_parent\"><img src=\"https://colab.research.google.com/assets/colab-badge.svg\" alt=\"Open In Colab\"/></a>"
      ]
    },
    {
      "cell_type": "markdown",
      "source": [
        "Copying Tensors"
      ],
      "metadata": {
        "id": "mYQLZeE6kcUN"
      }
    },
    {
      "cell_type": "code",
      "source": [
        "import torch\n",
        "import time"
      ],
      "metadata": {
        "id": "cgMWp-UFknIG"
      },
      "execution_count": 10,
      "outputs": []
    },
    {
      "cell_type": "code",
      "execution_count": 5,
      "metadata": {
        "colab": {
          "base_uri": "https://localhost:8080/"
        },
        "id": "nNtCShW6kVn4",
        "outputId": "90cdaa94-d15a-40c1-84ad-9d971eb8f85a"
      },
      "outputs": [
        {
          "output_type": "execute_result",
          "data": {
            "text/plain": [
              "tensor([[0.3610, 0.8243, 0.7308],\n",
              "        [0.8075, 0.9083, 0.4117]])"
            ]
          },
          "metadata": {},
          "execution_count": 5
        }
      ],
      "source": [
        "a = torch.rand(2,3)\n",
        "a"
      ]
    },
    {
      "cell_type": "code",
      "source": [
        "b = a\n",
        "b"
      ],
      "metadata": {
        "colab": {
          "base_uri": "https://localhost:8080/"
        },
        "id": "86ConCrxkkow",
        "outputId": "b3a78c74-7993-4010-f82c-fd418e0c8b8c"
      },
      "execution_count": 6,
      "outputs": [
        {
          "output_type": "execute_result",
          "data": {
            "text/plain": [
              "tensor([[0.3610, 0.8243, 0.7308],\n",
              "        [0.8075, 0.9083, 0.4117]])"
            ]
          },
          "metadata": {},
          "execution_count": 6
        }
      ]
    },
    {
      "cell_type": "code",
      "source": [
        "a[0][0] = 22\n",
        "a"
      ],
      "metadata": {
        "colab": {
          "base_uri": "https://localhost:8080/"
        },
        "id": "2WYVZIAakln0",
        "outputId": "a53f5d2f-3a9f-4e0e-b07a-8ac2523a7d5f"
      },
      "execution_count": 7,
      "outputs": [
        {
          "output_type": "execute_result",
          "data": {
            "text/plain": [
              "tensor([[22.0000,  0.8243,  0.7308],\n",
              "        [ 0.8075,  0.9083,  0.4117]])"
            ]
          },
          "metadata": {},
          "execution_count": 7
        }
      ]
    },
    {
      "cell_type": "code",
      "source": [
        "b #b will also get updated"
      ],
      "metadata": {
        "colab": {
          "base_uri": "https://localhost:8080/"
        },
        "id": "ClztH2dGkstN",
        "outputId": "e7be91d9-9bba-4633-9255-01eb9a5a5983"
      },
      "execution_count": 8,
      "outputs": [
        {
          "output_type": "execute_result",
          "data": {
            "text/plain": [
              "tensor([[22.0000,  0.8243,  0.7308],\n",
              "        [ 0.8075,  0.9083,  0.4117]])"
            ]
          },
          "metadata": {},
          "execution_count": 8
        }
      ]
    },
    {
      "cell_type": "code",
      "source": [
        "id(a)"
      ],
      "metadata": {
        "colab": {
          "base_uri": "https://localhost:8080/"
        },
        "id": "W7ZKLT33ktTW",
        "outputId": "a2ded763-b183-4284-eae7-0398e4123657"
      },
      "execution_count": 14,
      "outputs": [
        {
          "output_type": "execute_result",
          "data": {
            "text/plain": [
              "138596478863504"
            ]
          },
          "metadata": {},
          "execution_count": 14
        }
      ]
    },
    {
      "cell_type": "code",
      "source": [
        "id(b) #will be same"
      ],
      "metadata": {
        "colab": {
          "base_uri": "https://localhost:8080/"
        },
        "id": "sNkhPZxFk1ok",
        "outputId": "f0c5a5fd-c809-4edf-d3ce-1bff367ff6ff"
      },
      "execution_count": 15,
      "outputs": [
        {
          "output_type": "execute_result",
          "data": {
            "text/plain": [
              "138596477465808"
            ]
          },
          "metadata": {},
          "execution_count": 15
        }
      ]
    },
    {
      "cell_type": "code",
      "source": [
        "b = a.clone()\n",
        "b"
      ],
      "metadata": {
        "colab": {
          "base_uri": "https://localhost:8080/"
        },
        "id": "qs7ZGqDmk3U9",
        "outputId": "003c65c0-2939-4aea-936c-245f05edbc03"
      },
      "execution_count": 11,
      "outputs": [
        {
          "output_type": "execute_result",
          "data": {
            "text/plain": [
              "tensor([[22.0000,  0.8243,  0.7308],\n",
              "        [ 0.8075,  0.9083,  0.4117]])"
            ]
          },
          "metadata": {},
          "execution_count": 11
        }
      ]
    },
    {
      "cell_type": "code",
      "source": [
        "a[0][1] = 44\n",
        "a"
      ],
      "metadata": {
        "colab": {
          "base_uri": "https://localhost:8080/"
        },
        "id": "tjt0jM2Dk6_d",
        "outputId": "1428e2bc-411f-4ec1-ac7f-b41ce351e527"
      },
      "execution_count": 12,
      "outputs": [
        {
          "output_type": "execute_result",
          "data": {
            "text/plain": [
              "tensor([[22.0000, 44.0000,  0.7308],\n",
              "        [ 0.8075,  0.9083,  0.4117]])"
            ]
          },
          "metadata": {},
          "execution_count": 12
        }
      ]
    },
    {
      "cell_type": "code",
      "source": [
        "b #will not get updated now and will have different id now"
      ],
      "metadata": {
        "colab": {
          "base_uri": "https://localhost:8080/"
        },
        "id": "FpidljSmk-f2",
        "outputId": "c473ff49-252d-4aaa-9735-f35edb57ff7f"
      },
      "execution_count": 13,
      "outputs": [
        {
          "output_type": "execute_result",
          "data": {
            "text/plain": [
              "tensor([[22.0000,  0.8243,  0.7308],\n",
              "        [ 0.8075,  0.9083,  0.4117]])"
            ]
          },
          "metadata": {},
          "execution_count": 13
        }
      ]
    },
    {
      "cell_type": "markdown",
      "source": [
        "GPU Operations"
      ],
      "metadata": {
        "id": "bFhTFntklSfw"
      }
    },
    {
      "cell_type": "code",
      "source": [
        "torch.cuda.is_available()"
      ],
      "metadata": {
        "colab": {
          "base_uri": "https://localhost:8080/"
        },
        "id": "xofKv6R7k_Nm",
        "outputId": "473273a7-8fd7-4e5d-b2b9-a2424fe6fa0a"
      },
      "execution_count": 3,
      "outputs": [
        {
          "output_type": "execute_result",
          "data": {
            "text/plain": [
              "True"
            ]
          },
          "metadata": {},
          "execution_count": 3
        }
      ]
    },
    {
      "cell_type": "code",
      "source": [
        "device = torch.device(\"cuda\")"
      ],
      "metadata": {
        "id": "2bG7n76AlWre"
      },
      "execution_count": 4,
      "outputs": []
    },
    {
      "cell_type": "code",
      "source": [
        "torch.rand((2,3), device=device)\n",
        "#this will create a new tensor on new cuda device (gpu)"
      ],
      "metadata": {
        "colab": {
          "base_uri": "https://localhost:8080/"
        },
        "id": "RT1tkPmIljKH",
        "outputId": "65b6a67b-fe37-4375-880b-ce97730e702d"
      },
      "execution_count": 5,
      "outputs": [
        {
          "output_type": "execute_result",
          "data": {
            "text/plain": [
              "tensor([[0.7198, 0.0269, 0.8491],\n",
              "        [0.2848, 0.6863, 0.3743]], device='cuda:0')"
            ]
          },
          "metadata": {},
          "execution_count": 5
        }
      ]
    },
    {
      "cell_type": "code",
      "source": [
        "#move existing tensor to GPU\n",
        "a = torch.rand(3,4)\n",
        "a"
      ],
      "metadata": {
        "colab": {
          "base_uri": "https://localhost:8080/"
        },
        "id": "WMEhUzu_lpEf",
        "outputId": "2b32d3fb-4180-4791-e5ce-b849ac444be8"
      },
      "execution_count": 8,
      "outputs": [
        {
          "output_type": "execute_result",
          "data": {
            "text/plain": [
              "tensor([[0.7761, 0.3679, 0.7098, 0.3447],\n",
              "        [0.9248, 0.1358, 0.4633, 0.3991],\n",
              "        [0.5746, 0.0227, 0.3411, 0.1238]])"
            ]
          },
          "metadata": {},
          "execution_count": 8
        }
      ]
    },
    {
      "cell_type": "code",
      "source": [
        "b = a.to(device) #on GPU now"
      ],
      "metadata": {
        "id": "3GnJQhy9l8s2"
      },
      "execution_count": 9,
      "outputs": []
    },
    {
      "cell_type": "code",
      "source": [
        "#Time comparison between CPU and GPU\n",
        "\n",
        "size = 10000\n",
        "matrix_cpu1 = torch.randn(size, size)\n",
        "matrix_cpu2 = torch.randn(size, size)\n",
        "\n",
        "start_time = time.time()\n",
        "result_cpu = torch.matmul(matrix_cpu1, matrix_cpu2)\n",
        "cpu_time = time.time() - start_time\n",
        "\n",
        "print(f'Time for CPU: {cpu_time:.4f} seconds')\n",
        "\n",
        "matrix_gpu1 = matrix_cpu1.to('cuda')\n",
        "matrix_gpu2 = matrix_cpu2.to('cuda')\n",
        "\n",
        "start_time = time.time()\n",
        "result_gpu = torch.matmul(matrix_gpu1, matrix_gpu2)\n",
        "torch.cuda.synchronize()\n",
        "gpu_time = time.time() - start_time\n",
        "\n",
        "print(f'Time for GPU: {gpu_time:.4f} seconds')\n",
        "\n",
        "print(f\"Sepeedup (CPU/GPU): {cpu_time}/{gpu_time}\")"
      ],
      "metadata": {
        "colab": {
          "base_uri": "https://localhost:8080/"
        },
        "id": "5eFtuTh4l-B-",
        "outputId": "8d7910ed-64ae-45a2-c202-0764b35212ce"
      },
      "execution_count": 12,
      "outputs": [
        {
          "output_type": "stream",
          "name": "stdout",
          "text": [
            "Time for CPU: 24.5605 seconds\n",
            "Time for GPU: 0.6932 seconds\n",
            "Sepeedup (CPU/GPU): 24.560533046722412/0.6931815147399902\n"
          ]
        }
      ]
    },
    {
      "cell_type": "markdown",
      "source": [
        "Reshaping Tensors"
      ],
      "metadata": {
        "id": "gVoVxYx9pzdH"
      }
    },
    {
      "cell_type": "code",
      "source": [
        "a = torch.rand(2,3,4)\n",
        "a"
      ],
      "metadata": {
        "colab": {
          "base_uri": "https://localhost:8080/"
        },
        "id": "Z0PZGE-rneUL",
        "outputId": "a7dac377-a171-4444-cd6b-9ed6c714f3ca"
      },
      "execution_count": 23,
      "outputs": [
        {
          "output_type": "execute_result",
          "data": {
            "text/plain": [
              "tensor([[[0.9766, 0.2893, 0.1601, 0.0029],\n",
              "         [0.7806, 0.2144, 0.1022, 0.1735],\n",
              "         [0.0399, 0.7331, 0.9215, 0.2211]],\n",
              "\n",
              "        [[0.2571, 0.0151, 0.1401, 0.9179],\n",
              "         [0.0332, 0.2995, 0.0220, 0.5577],\n",
              "         [0.0653, 0.7678, 0.8073, 0.6984]]])"
            ]
          },
          "metadata": {},
          "execution_count": 23
        }
      ]
    },
    {
      "cell_type": "code",
      "source": [
        "a.reshape(3,2,4)"
      ],
      "metadata": {
        "colab": {
          "base_uri": "https://localhost:8080/"
        },
        "id": "Wn6qQa9Vp5i_",
        "outputId": "dad7189e-54d0-4ff9-cc6d-c990fc11eb73"
      },
      "execution_count": 27,
      "outputs": [
        {
          "output_type": "execute_result",
          "data": {
            "text/plain": [
              "tensor([[[0.9766, 0.2893, 0.1601, 0.0029],\n",
              "         [0.7806, 0.2144, 0.1022, 0.1735]],\n",
              "\n",
              "        [[0.0399, 0.7331, 0.9215, 0.2211],\n",
              "         [0.2571, 0.0151, 0.1401, 0.9179]],\n",
              "\n",
              "        [[0.0332, 0.2995, 0.0220, 0.5577],\n",
              "         [0.0653, 0.7678, 0.8073, 0.6984]]])"
            ]
          },
          "metadata": {},
          "execution_count": 27
        }
      ]
    },
    {
      "cell_type": "code",
      "source": [
        "a.flatten() #will give 1D tensor"
      ],
      "metadata": {
        "colab": {
          "base_uri": "https://localhost:8080/"
        },
        "id": "H-aaIS9-p7OU",
        "outputId": "2ee88eb5-6340-4776-9d66-5c50397f15ab"
      },
      "execution_count": 28,
      "outputs": [
        {
          "output_type": "execute_result",
          "data": {
            "text/plain": [
              "tensor([0.9766, 0.2893, 0.1601, 0.0029, 0.7806, 0.2144, 0.1022, 0.1735, 0.0399,\n",
              "        0.7331, 0.9215, 0.2211, 0.2571, 0.0151, 0.1401, 0.9179, 0.0332, 0.2995,\n",
              "        0.0220, 0.5577, 0.0653, 0.7678, 0.8073, 0.6984])"
            ]
          },
          "metadata": {},
          "execution_count": 28
        }
      ]
    },
    {
      "cell_type": "code",
      "source": [
        "a.permute(2,0,1) #1st column(0) goes to 2nd place, 2nd(1) to 3rd and 3rd(2) to first place #order of column ko permuation kardo"
      ],
      "metadata": {
        "colab": {
          "base_uri": "https://localhost:8080/"
        },
        "id": "G_puemrBp-F2",
        "outputId": "63a23830-4364-4373-99c5-ccf95f5519a1"
      },
      "execution_count": 29,
      "outputs": [
        {
          "output_type": "execute_result",
          "data": {
            "text/plain": [
              "tensor([[[0.9766, 0.7806, 0.0399],\n",
              "         [0.2571, 0.0332, 0.0653]],\n",
              "\n",
              "        [[0.2893, 0.2144, 0.7331],\n",
              "         [0.0151, 0.2995, 0.7678]],\n",
              "\n",
              "        [[0.1601, 0.1022, 0.9215],\n",
              "         [0.1401, 0.0220, 0.8073]],\n",
              "\n",
              "        [[0.0029, 0.1735, 0.2211],\n",
              "         [0.9179, 0.5577, 0.6984]]])"
            ]
          },
          "metadata": {},
          "execution_count": 29
        }
      ]
    },
    {
      "cell_type": "code",
      "source": [
        "c = torch.rand(226,226,3) #this is a standard image size and will be used multiple times 226,226,3\n",
        "c"
      ],
      "metadata": {
        "colab": {
          "base_uri": "https://localhost:8080/"
        },
        "id": "tv7QaCamqBjO",
        "outputId": "b93d22da-8429-4463-b797-bddb94c9d3de"
      },
      "execution_count": 31,
      "outputs": [
        {
          "output_type": "execute_result",
          "data": {
            "text/plain": [
              "tensor([[[0.1635, 0.4097, 0.8884],\n",
              "         [0.7153, 0.1342, 0.9061],\n",
              "         [0.0359, 0.5933, 0.0880],\n",
              "         ...,\n",
              "         [0.9590, 0.1498, 0.4263],\n",
              "         [0.2073, 0.1092, 0.1253],\n",
              "         [0.8571, 0.8716, 0.7581]],\n",
              "\n",
              "        [[0.4226, 0.6888, 0.3451],\n",
              "         [0.4211, 0.9970, 0.0583],\n",
              "         [0.5221, 0.1337, 0.2061],\n",
              "         ...,\n",
              "         [0.0633, 0.9824, 0.7740],\n",
              "         [0.9931, 0.7037, 0.6902],\n",
              "         [0.7806, 0.5040, 0.0404]],\n",
              "\n",
              "        [[0.6332, 0.4470, 0.1711],\n",
              "         [0.6509, 0.5789, 0.9047],\n",
              "         [0.8326, 0.7410, 0.5115],\n",
              "         ...,\n",
              "         [0.6988, 0.4114, 0.6492],\n",
              "         [0.3954, 0.0459, 0.9124],\n",
              "         [0.2667, 0.8745, 0.9929]],\n",
              "\n",
              "        ...,\n",
              "\n",
              "        [[0.1337, 0.5638, 0.1734],\n",
              "         [0.9960, 0.3538, 0.9562],\n",
              "         [0.8158, 0.2564, 0.2846],\n",
              "         ...,\n",
              "         [0.3078, 0.9832, 0.9390],\n",
              "         [0.6977, 0.9669, 0.6891],\n",
              "         [0.6345, 0.7654, 0.7538]],\n",
              "\n",
              "        [[0.9622, 0.7794, 0.4223],\n",
              "         [0.2635, 0.1007, 0.2606],\n",
              "         [0.5918, 0.4503, 0.3591],\n",
              "         ...,\n",
              "         [0.9621, 0.5131, 0.7361],\n",
              "         [0.0897, 0.9597, 0.3957],\n",
              "         [0.1383, 0.4165, 0.4717]],\n",
              "\n",
              "        [[0.8437, 0.7778, 0.2659],\n",
              "         [0.4121, 0.3759, 0.2826],\n",
              "         [0.9283, 0.7203, 0.2671],\n",
              "         ...,\n",
              "         [0.8363, 0.5815, 0.4324],\n",
              "         [0.8045, 0.5463, 0.4383],\n",
              "         [0.3705, 0.8037, 0.2709]]])"
            ]
          },
          "metadata": {},
          "execution_count": 31
        }
      ]
    },
    {
      "cell_type": "code",
      "source": [
        "c.unsqueeze(0).shape #add new dimension at a given place 0,1,2,3..."
      ],
      "metadata": {
        "colab": {
          "base_uri": "https://localhost:8080/"
        },
        "id": "drn95tPJqkMw",
        "outputId": "25e33096-1cbc-4dfc-b886-f0e181de6b66"
      },
      "execution_count": 34,
      "outputs": [
        {
          "output_type": "execute_result",
          "data": {
            "text/plain": [
              "torch.Size([1, 226, 226, 3])"
            ]
          },
          "metadata": {},
          "execution_count": 34
        }
      ]
    },
    {
      "cell_type": "code",
      "source": [
        "d= torch.rand(1,20)\n",
        "d.squeeze(0).shape #ulta here, wo us position ka dimension nikaal dega\n",
        "#these will be used a lot"
      ],
      "metadata": {
        "colab": {
          "base_uri": "https://localhost:8080/"
        },
        "id": "1rg7tprlqxJy",
        "outputId": "9f2023c1-fd27-464f-94a4-76ddf2ae7c15"
      },
      "execution_count": 39,
      "outputs": [
        {
          "output_type": "execute_result",
          "data": {
            "text/plain": [
              "torch.Size([20])"
            ]
          },
          "metadata": {},
          "execution_count": 39
        }
      ]
    },
    {
      "cell_type": "code",
      "source": [
        "import numpy as np"
      ],
      "metadata": {
        "id": "xLdrTqztrM8h"
      },
      "execution_count": 40,
      "outputs": []
    },
    {
      "cell_type": "code",
      "source": [
        "a = torch.tensor([1,2,3])\n",
        "a"
      ],
      "metadata": {
        "id": "bK5_sdAIrnua"
      },
      "execution_count": 41,
      "outputs": []
    },
    {
      "cell_type": "code",
      "source": [
        "#convert to numpy array\n",
        "b = a.numpy()\n",
        "b"
      ],
      "metadata": {
        "colab": {
          "base_uri": "https://localhost:8080/"
        },
        "id": "dSWJAvJxrqxy",
        "outputId": "ee5c43c2-ebec-4a1d-88c5-b78b5f2bbe9a"
      },
      "execution_count": 42,
      "outputs": [
        {
          "output_type": "execute_result",
          "data": {
            "text/plain": [
              "array([1, 2, 3])"
            ]
          },
          "metadata": {},
          "execution_count": 42
        }
      ]
    },
    {
      "cell_type": "code",
      "source": [
        "c = np.array([1,2,3])\n",
        "c"
      ],
      "metadata": {
        "colab": {
          "base_uri": "https://localhost:8080/"
        },
        "id": "t1BsY3-ArvYy",
        "outputId": "fbb4ae2a-a9c4-4ea0-bc15-e870e5f3f052"
      },
      "execution_count": 44,
      "outputs": [
        {
          "output_type": "execute_result",
          "data": {
            "text/plain": [
              "array([1, 2, 3])"
            ]
          },
          "metadata": {},
          "execution_count": 44
        }
      ]
    },
    {
      "cell_type": "code",
      "source": [
        "d = torch.from_numpy(c) #convert numpy array to tensor\n",
        "d"
      ],
      "metadata": {
        "colab": {
          "base_uri": "https://localhost:8080/"
        },
        "id": "q6R1ecGirzUa",
        "outputId": "0dab875a-87b0-410e-e404-846c6439f643"
      },
      "execution_count": 45,
      "outputs": [
        {
          "output_type": "execute_result",
          "data": {
            "text/plain": [
              "tensor([1, 2, 3])"
            ]
          },
          "metadata": {},
          "execution_count": 45
        }
      ]
    },
    {
      "cell_type": "code",
      "source": [],
      "metadata": {
        "id": "pOKGlQTnr4Ji"
      },
      "execution_count": null,
      "outputs": []
    }
  ]
}